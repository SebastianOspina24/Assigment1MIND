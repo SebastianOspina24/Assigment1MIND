{
 "cells": [
  {
   "cell_type": "markdown",
   "metadata": {},
   "source": [
    "# Assigment-1\n",
    "\n",
    "## 1) Cargar en Jupyter el archivo suminstrado"
   ]
  },
  {
   "cell_type": "code",
   "execution_count": 1,
   "metadata": {},
   "outputs": [],
   "source": [
    "import pandas as pd\n",
    "filename = 'covid_global.csv'\n",
    "data = pd.read_csv(filename)"
   ]
  },
  {
   "cell_type": "markdown",
   "metadata": {},
   "source": [
    "## 2) Calcular y mostrar la cantidad de pacientes recuperados y muertos en cada continente\n",
    "\n",
    "Coordenadas por continentes\n",
    "\n",
    "\n",
    "| Continente | Latitud 1 | Latitud 2 | Longitud 1 | Longitud 2 |\n",
    "| --- | ---: | ---: | ---: | :---: |\n",
    "| America | 80 | -60 | -160 | -20|\n",
    "| Africa | 35 | -35 | -17 | 40 | \n",
    "| Africa B| 13 | -35 | 40 | 50 | \n",
    "| Europa | 71 | 35 | 9 | 40 |\n",
    "| Asia | 78 | 2 | 27 | 170 | \n",
    "| Oceania | -20 | -50 | 113 | 125 | "
   ]
  },
  {
   "cell_type": "code",
   "execution_count": 195,
   "metadata": {},
   "outputs": [
    {
     "name": "stdout",
     "output_type": "stream",
     "text": [
      "En America hubo 834279161 Muertos y 7568657372 Recuperados\n",
      "En Europa hubo 255816570 Muertos y 4738492704 Recuperados\n",
      "En Asia hubo 419413288 Muertos y 10789572922 Recuperados\n",
      "En Oceania hubo 5867 Muertos y 375995 Recuperados\n",
      "En Africa hubo 79625748 Muertos y 1562645586 Recuperados\n"
     ]
    }
   ],
   "source": [
    "continentes = [\"America\",\"Europa\",\"Asia\",\"Oceania\",\"Africa\"]\n",
    "continents = [0 for i in range(5)]\n",
    "posi = [[80,-60,-160,-20],[71 , 35 , 9 , 40 ],[78 , 2 , 27 , 170],[-20 , -50 , 113 , 125],[35 , -35 , -17 , 40],[13 , -35 , 40 ,50]]\n",
    "for i in range(5):\n",
    "    conti = data[(data[\"Lat\"] < posi[i][0])& (data[\"Lat\"] > posi[i][1]) & (data[\"Long\"] > posi[i][2])& (data[\"Long\"] < posi[i][3])]\n",
    "    continents[i] = conti.copy()\n",
    "    conti.pop(\"Lat\")\n",
    "    conti.pop(\"Long\")\n",
    "    conti.pop(\"Country\")\n",
    "    contir = conti.query(\"status == 'R'\")\n",
    "    contir.pop(\"status\")\n",
    "    contid = conti.query(\"status=='D'\")\n",
    "    contid.pop(\"status\")\n",
    "    if(i==4):\n",
    "        dead = contid.sum(axis=1).sum(numeric_only=False)\n",
    "        recu = contir.sum(axis=1).sum(numeric_only=False)\n",
    "        conti = data[(data[\"Lat\"] < posi[5][0])& (data[\"Lat\"] > posi[5][1]) & (data[\"Long\"] > posi[5][2])& (data[\"Long\"] < posi[5][3])]\n",
    "        continents[4] = pd.concat([conti.copy(),continents[4]],axis=1)\n",
    "        conti.pop(\"Lat\")\n",
    "        conti.pop(\"Long\")\n",
    "        conti.pop(\"Country\")\n",
    "        contir = conti.query(\"status == 'R'\")\n",
    "        contir.pop(\"status\")\n",
    "        contid = conti.query(\"status=='D'\")\n",
    "        contid.pop(\"status\")\n",
    "        print(\"En \"+continentes[i]+\" hubo \"+str(contid.sum(axis=1).sum(numeric_only=False)+dead)+\" Muertos y \"+str(contir.sum(axis=1).sum(numeric_only=False)+recu)+\" Recuperados\")\n",
    "    else:\n",
    "        print(\"En \"+continentes[i]+\" hubo \"+str(contid.sum(axis=1).sum(numeric_only=False))+\" Muertos y \"+str(contir.sum(axis=1).sum(numeric_only=False))+\" Recuperados\")\n",
    "    \n",
    "   "
   ]
  },
  {
   "cell_type": "markdown",
   "metadata": {},
   "source": [
    "## 3) Indicar el pais con el mayor crecimiento en cantidad de recuperados y muertos el año 2022"
   ]
  },
  {
   "cell_type": "code",
   "execution_count": 181,
   "metadata": {},
   "outputs": [],
   "source": [
    "def formula(inicio,fin):\n",
    "        temp = ((fin-inicio)/inicio)*100 if inicio > 0 else fin\n",
    "        return temp\n",
    "\n",
    "def mayorcrecimiento(inicio,final,filtro):\n",
    "    mayor = [float('-inf'),-1]\n",
    "    filtror = data.query(\"status == @filtro\")\n",
    "    for i in filtror.index:\n",
    "        temp = formula(filtror.loc[i,inicio],filtror.loc[i,final])\n",
    "        mayor = [temp,i]if mayor[0] < temp else mayor\n",
    "    return(data.head(mayor[1]+1).tail(1)[\"Country\"]+\" con un crecimiento de \"+str(mayor[0]) +\"% de \" +(\"Muertos\" if filtro =='D'else\"Recuperados\"))\n",
    "\n",
    "def menorcrecimiento(inicio,final,filtro):\n",
    "    menor = [float('inf'),-1]\n",
    "    filtror = data.query(\"status == @filtro\")\n",
    "    for i in filtror.index:\n",
    "        temp = formula(filtror.loc[i,inicio],filtror.loc[i,final])\n",
    "        menor = [temp,i]if menor[0] > temp else menor\n",
    "    return(data.head(menor[1]+1).tail(1)[\"Country\"]+\" con un crecimiento de \"+str(menor[0]) +\"% de \" +(\"Muertos\" if filtro =='D'else\"Recuperados\"))\n",
    "    "
   ]
  },
  {
   "cell_type": "code",
   "execution_count": 182,
   "metadata": {},
   "outputs": [
    {
     "name": "stdout",
     "output_type": "stream",
     "text": [
      "0    Venezuela con un crecimiento de 0% de Recuperados\n",
      "Name: Country, dtype: object\n",
      "225    Australia con un crecimiento de 800.0% de Muertos\n",
      "Name: Country, dtype: object\n"
     ]
    }
   ],
   "source": [
    "print(mayorcrecimiento('01/01/22','01/18/22','R'))\n",
    "print(mayorcrecimiento('01/01/22','01/18/22','D'))"
   ]
  },
  {
   "cell_type": "markdown",
   "metadata": {},
   "source": [
    "## 4)  Indicar el país con el menor crecimiento en la cantidad de recuperados y muertos durante el año 2021."
   ]
  },
  {
   "cell_type": "code",
   "execution_count": 184,
   "metadata": {},
   "outputs": [
    {
     "name": "stdout",
     "output_type": "stream",
     "text": [
      "0    Venezuela con un crecimiento de -100.0% de Rec...\n",
      "Name: Country, dtype: object\n",
      "4    Canada con un crecimiento de 0% de Muertos\n",
      "Name: Country, dtype: object\n"
     ]
    }
   ],
   "source": [
    "print(menorcrecimiento('01/01/21','12/31/21','R'))\n",
    "print(menorcrecimiento('01/01/21','12/31/21','D'))"
   ]
  },
  {
   "cell_type": "markdown",
   "metadata": {},
   "source": [
    "## 5) Indicar por continente el país con mejor tasa de sobrevivientes para cada año: 2020, 2021 y 2022."
   ]
  },
  {
   "cell_type": "code",
   "execution_count": 306,
   "metadata": {},
   "outputs": [],
   "source": [
    "def sobrevivientes(dia,conti):\n",
    "    menor = [float('-inf'),-1]\n",
    "    contitempr= continents[conti].query(\"status == 'R'\")\n",
    "    contitempod = continents[conti].query(\"status == 'D'\")\n",
    "    for i in contitempr.index:\n",
    "        segundo = contitempod[(contitempod[\"Lat\"] ==contitempr.loc[i,\"Lat\"])& (contitempod[\"Long\"] ==contitempr.loc[i,\"Long\"])].loc[:,dia]\n",
    "        temp = int(contitempr.loc[i,dia]) / int(segundo)  if int(segundo) != 0 else int(contitempr.loc[i,dia])  \n",
    "        menor = [temp,i] if float(menor[0]) <= float(temp) else menor\n",
    "    print(menor)"
   ]
  },
  {
   "cell_type": "code",
   "execution_count": 307,
   "metadata": {},
   "outputs": [
    {
     "name": "stdout",
     "output_type": "stream",
     "text": [
      "[122.99648876404494, 218]\n"
     ]
    }
   ],
   "source": [
    "sobrevivientes('12/31/20',1)"
   ]
  }
 ],
 "metadata": {
  "interpreter": {
   "hash": "7165aca73276a4729fc876a5efea33caf73a892a7a40eaa0ddcbf363c3ffdf48"
  },
  "kernelspec": {
   "display_name": "Python 3.9.10 64-bit (windows store)",
   "language": "python",
   "name": "python3"
  },
  "language_info": {
   "codemirror_mode": {
    "name": "ipython",
    "version": 3
   },
   "file_extension": ".py",
   "mimetype": "text/x-python",
   "name": "python",
   "nbconvert_exporter": "python",
   "pygments_lexer": "ipython3",
   "version": "3.9.10"
  },
  "orig_nbformat": 4
 },
 "nbformat": 4,
 "nbformat_minor": 2
}
