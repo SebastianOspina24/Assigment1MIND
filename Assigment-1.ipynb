{
 "cells": [
  {
   "cell_type": "markdown",
   "metadata": {},
   "source": [
    "# Assigment-1\n",
    "\n",
    "## 1) Cargar en Jupyter el archivo suminstrado"
   ]
  },
  {
   "cell_type": "code",
   "execution_count": 1,
   "metadata": {},
   "outputs": [],
   "source": [
    "import pandas as pd\n",
    "filename = 'covid_global.csv'\n",
    "data = pd.read_csv(filename)"
   ]
  },
  {
   "cell_type": "markdown",
   "metadata": {},
   "source": [
    "## 2) Calcular y mostrar la cantidad de pacientes recuperados y muertos en cada continente\n",
    "\n",
    "Coordenadas por continentes\n",
    "\n",
    "\n",
    "| Continente | Latitud 1 | Latitud 2 | Longitud 1 | Longitud 2 |\n",
    "| --- | ---: | ---: | ---: | :---: |\n",
    "| America | 80 | -60 | -160 | -20|\n",
    "| Africa | 35 | -35 | -17 | 40 | \n",
    "| Africa B| 13 | -35 | 40 | 50 | \n",
    "| Europa | 71 | 35 | 9 | 40 |\n",
    "| Asia | 78 | 2 | 27 | 170 | \n",
    "| Oceania | -20 | -50 | 113 | 125 | "
   ]
  },
  {
   "cell_type": "code",
   "execution_count": 195,
   "metadata": {},
   "outputs": [
    {
     "name": "stdout",
     "output_type": "stream",
     "text": [
      "En America hubo 834279161 Muertos y 7568657372 Recuperados\n",
      "En Europa hubo 255816570 Muertos y 4738492704 Recuperados\n",
      "En Asia hubo 419413288 Muertos y 10789572922 Recuperados\n",
      "En Oceania hubo 5867 Muertos y 375995 Recuperados\n",
      "En Africa hubo 79625748 Muertos y 1562645586 Recuperados\n"
     ]
    }
   ],
   "source": [
    "continentes = [\"America\",\"Europa\",\"Asia\",\"Oceania\",\"Africa\"]\n",
    "continents = [0 for i in range(5)]\n",
    "posi = [[80,-60,-160,-20],[71 , 35 , 9 , 40 ],[78 , 2 , 27 , 170],[-20 , -50 , 113 , 125],[35 , -35 , -17 , 40],[13 , -35 , 40 ,50]]\n",
    "for i in range(5):\n",
    "    conti = data[(data[\"Lat\"] < posi[i][0])& (data[\"Lat\"] > posi[i][1]) & (data[\"Long\"] > posi[i][2])& (data[\"Long\"] < posi[i][3])]\n",
    "    continents[i] = conti.copy()\n",
    "    conti.pop(\"Lat\")\n",
    "    conti.pop(\"Long\")\n",
    "    conti.pop(\"Country\")\n",
    "    contir = conti.query(\"status == 'R'\")\n",
    "    contir.pop(\"status\")\n",
    "    contid = conti.query(\"status=='D'\")\n",
    "    contid.pop(\"status\")\n",
    "    if(i==4):\n",
    "        dead = contid.sum(axis=1).sum(numeric_only=False)\n",
    "        recu = contir.sum(axis=1).sum(numeric_only=False)\n",
    "        conti = data[(data[\"Lat\"] < posi[5][0])& (data[\"Lat\"] > posi[5][1]) & (data[\"Long\"] > posi[5][2])& (data[\"Long\"] < posi[5][3])]\n",
    "        continents[4] = pd.concat([conti.copy(),continents[4]],axis=1)\n",
    "        conti.pop(\"Lat\")\n",
    "        conti.pop(\"Long\")\n",
    "        conti.pop(\"Country\")\n",
    "        contir = conti.query(\"status == 'R'\")\n",
    "        contir.pop(\"status\")\n",
    "        contid = conti.query(\"status=='D'\")\n",
    "        contid.pop(\"status\")\n",
    "        print(\"En \"+continentes[i]+\" hubo \"+str(contid.sum(axis=1).sum(numeric_only=False)+dead)+\" Muertos y \"+str(contir.sum(axis=1).sum(numeric_only=False)+recu)+\" Recuperados\")\n",
    "    else:\n",
    "        print(\"En \"+continentes[i]+\" hubo \"+str(contid.sum(axis=1).sum(numeric_only=False))+\" Muertos y \"+str(contir.sum(axis=1).sum(numeric_only=False))+\" Recuperados\")\n",
    "    \n",
    "   "
   ]
  },
  {
   "cell_type": "markdown",
   "metadata": {},
   "source": [
    "## 3) Indicar el pais con el mayor crecimiento en cantidad de recuperados y muertos el año 2022"
   ]
  },
  {
   "cell_type": "code",
   "execution_count": 181,
   "metadata": {},
   "outputs": [],
   "source": [
    "def formula(inicio,fin):\n",
    "        temp = ((fin-inicio)/inicio)*100 if inicio > 0 else fin\n",
    "        return temp\n",
    "\n",
    "def mayorcrecimiento(inicio,final,filtro):\n",
    "    mayor = [float('-inf'),-1]\n",
    "    filtror = data.query(\"status == @filtro\")\n",
    "    for i in filtror.index:\n",
    "        temp = formula(filtror.loc[i,inicio],filtror.loc[i,final])\n",
    "        mayor = [temp,i]if mayor[0] < temp else mayor\n",
    "    return(data.head(mayor[1]+1).tail(1)[\"Country\"]+\" con un crecimiento de \"+str(mayor[0]) +\"% de \" +(\"Muertos\" if filtro =='D'else\"Recuperados\"))\n",
    "\n",
    "def menorcrecimiento(inicio,final,filtro):\n",
    "    menor = [float('inf'),-1]\n",
    "    filtror = data.query(\"status == @filtro\")\n",
    "    for i in filtror.index:\n",
    "        temp = formula(filtror.loc[i,inicio],filtror.loc[i,final])\n",
    "        menor = [temp,i]if menor[0] > temp else menor\n",
    "    return(data.head(menor[1]+1).tail(1)[\"Country\"]+\" con un crecimiento de \"+str(menor[0]) +\"% de \" +(\"Muertos\" if filtro =='D'else\"Recuperados\"))\n",
    "    "
   ]
  },
  {
   "cell_type": "code",
   "execution_count": 182,
   "metadata": {},
   "outputs": [
    {
     "name": "stdout",
     "output_type": "stream",
     "text": [
      "0    Venezuela con un crecimiento de 0% de Recuperados\n",
      "Name: Country, dtype: object\n",
      "225    Australia con un crecimiento de 800.0% de Muertos\n",
      "Name: Country, dtype: object\n"
     ]
    }
   ],
   "source": [
    "print(mayorcrecimiento('01/01/22','01/18/22','R'))\n",
    "print(mayorcrecimiento('01/01/22','01/18/22','D'))"
   ]
  },
  {
   "cell_type": "markdown",
   "metadata": {},
   "source": [
    "## 4)  Indicar el país con el menor crecimiento en la cantidad de recuperados y muertos durante el año 2021."
   ]
  },
  {
   "cell_type": "code",
   "execution_count": 184,
   "metadata": {},
   "outputs": [
    {
     "name": "stdout",
     "output_type": "stream",
     "text": [
      "0    Venezuela con un crecimiento de -100.0% de Rec...\n",
      "Name: Country, dtype: object\n",
      "4    Canada con un crecimiento de 0% de Muertos\n",
      "Name: Country, dtype: object\n"
     ]
    }
   ],
   "source": [
    "print(menorcrecimiento('01/01/21','12/31/21','R'))\n",
    "print(menorcrecimiento('01/01/21','12/31/21','D'))"
   ]
  },
  {
   "cell_type": "markdown",
   "metadata": {},
   "source": [
    "## 5) Indicar por continente el país con mejor tasa de sobrevivientes para cada año: 2020, 2021 y 2022."
   ]
  },
  {
   "cell_type": "code",
   "execution_count": 221,
   "metadata": {},
   "outputs": [],
   "source": [
    "def sobrevivientes(dia,conti):\n",
    "    menor = [float('-inf'),-1]\n",
    "    contitempr= continents[conti].query(\"status == 'R'\")\n",
    "    contitempod = continents[conti].query(\"status == 'D'\")\n",
    "    for i in contitempr.index:\n",
    "        temp = contitempr.loc[i,dia]/contitempod[(contitempod[\"Lat\"] ==contitempr.loc[i,\"Lat\"])& (contitempod[\"Long\"] ==contitempr.loc[i,\"Long\"])].loc[:,dia]\n",
    "        print(menor[0] < temp)\n",
    "        menor = [temp,i] if menor[0] <= temp else menor\n",
    "    print(menor)"
   ]
  },
  {
   "cell_type": "code",
   "execution_count": 222,
   "metadata": {},
   "outputs": [
    {
     "name": "stdout",
     "output_type": "stream",
     "text": [
      "332    True\n",
      "Name: 12/31/21, dtype: bool\n"
     ]
    },
    {
     "ename": "ValueError",
     "evalue": "The truth value of a Series is ambiguous. Use a.empty, a.bool(), a.item(), a.any() or a.all().",
     "output_type": "error",
     "traceback": [
      "\u001b[1;31m---------------------------------------------------------------------------\u001b[0m",
      "\u001b[1;31mValueError\u001b[0m                                Traceback (most recent call last)",
      "Input \u001b[1;32mIn [222]\u001b[0m, in \u001b[0;36m<module>\u001b[1;34m\u001b[0m\n\u001b[1;32m----> 1\u001b[0m \u001b[43msobrevivientes\u001b[49m\u001b[43m(\u001b[49m\u001b[38;5;124;43m'\u001b[39;49m\u001b[38;5;124;43m12/31/21\u001b[39;49m\u001b[38;5;124;43m'\u001b[39;49m\u001b[43m,\u001b[49m\u001b[38;5;241;43m0\u001b[39;49m\u001b[43m)\u001b[49m\n",
      "Input \u001b[1;32mIn [221]\u001b[0m, in \u001b[0;36msobrevivientes\u001b[1;34m(dia, conti)\u001b[0m\n\u001b[0;32m      6\u001b[0m     temp \u001b[38;5;241m=\u001b[39m contitempr\u001b[38;5;241m.\u001b[39mloc[i,dia]\u001b[38;5;241m/\u001b[39mcontitempod[(contitempod[\u001b[38;5;124m\"\u001b[39m\u001b[38;5;124mLat\u001b[39m\u001b[38;5;124m\"\u001b[39m] \u001b[38;5;241m==\u001b[39mcontitempr\u001b[38;5;241m.\u001b[39mloc[i,\u001b[38;5;124m\"\u001b[39m\u001b[38;5;124mLat\u001b[39m\u001b[38;5;124m\"\u001b[39m])\u001b[38;5;241m&\u001b[39m (contitempod[\u001b[38;5;124m\"\u001b[39m\u001b[38;5;124mLong\u001b[39m\u001b[38;5;124m\"\u001b[39m] \u001b[38;5;241m==\u001b[39mcontitempr\u001b[38;5;241m.\u001b[39mloc[i,\u001b[38;5;124m\"\u001b[39m\u001b[38;5;124mLong\u001b[39m\u001b[38;5;124m\"\u001b[39m])]\u001b[38;5;241m.\u001b[39mloc[:,dia]\n\u001b[0;32m      7\u001b[0m     \u001b[38;5;28mprint\u001b[39m(menor[\u001b[38;5;241m0\u001b[39m] \u001b[38;5;241m<\u001b[39m temp)\n\u001b[1;32m----> 8\u001b[0m     menor \u001b[38;5;241m=\u001b[39m [temp,i] \u001b[38;5;28;01mif\u001b[39;00m \u001b[43mmenor\u001b[49m\u001b[43m[\u001b[49m\u001b[38;5;241;43m0\u001b[39;49m\u001b[43m]\u001b[49m\u001b[43m \u001b[49m\u001b[38;5;241;43m<\u001b[39;49m\u001b[38;5;241;43m=\u001b[39;49m\u001b[43m \u001b[49m\u001b[43mtemp\u001b[49m \u001b[38;5;28;01melse\u001b[39;00m menor\n\u001b[0;32m      9\u001b[0m \u001b[38;5;28mprint\u001b[39m(menor)\n",
      "File \u001b[1;32m~\\AppData\\Local\\Packages\\PythonSoftwareFoundation.Python.3.9_qbz5n2kfra8p0\\LocalCache\\local-packages\\Python39\\site-packages\\pandas\\core\\generic.py:1535\u001b[0m, in \u001b[0;36mNDFrame.__nonzero__\u001b[1;34m(self)\u001b[0m\n\u001b[0;32m   1533\u001b[0m \u001b[38;5;129m@final\u001b[39m\n\u001b[0;32m   1534\u001b[0m \u001b[38;5;28;01mdef\u001b[39;00m \u001b[38;5;21m__nonzero__\u001b[39m(\u001b[38;5;28mself\u001b[39m):\n\u001b[1;32m-> 1535\u001b[0m     \u001b[38;5;28;01mraise\u001b[39;00m \u001b[38;5;167;01mValueError\u001b[39;00m(\n\u001b[0;32m   1536\u001b[0m         \u001b[38;5;124mf\u001b[39m\u001b[38;5;124m\"\u001b[39m\u001b[38;5;124mThe truth value of a \u001b[39m\u001b[38;5;132;01m{\u001b[39;00m\u001b[38;5;28mtype\u001b[39m(\u001b[38;5;28mself\u001b[39m)\u001b[38;5;241m.\u001b[39m\u001b[38;5;18m__name__\u001b[39m\u001b[38;5;132;01m}\u001b[39;00m\u001b[38;5;124m is ambiguous. \u001b[39m\u001b[38;5;124m\"\u001b[39m\n\u001b[0;32m   1537\u001b[0m         \u001b[38;5;124m\"\u001b[39m\u001b[38;5;124mUse a.empty, a.bool(), a.item(), a.any() or a.all().\u001b[39m\u001b[38;5;124m\"\u001b[39m\n\u001b[0;32m   1538\u001b[0m     )\n",
      "\u001b[1;31mValueError\u001b[0m: The truth value of a Series is ambiguous. Use a.empty, a.bool(), a.item(), a.any() or a.all()."
     ]
    }
   ],
   "source": [
    "sobrevivientes('12/31/21',0)"
   ]
  }
 ],
 "metadata": {
  "interpreter": {
   "hash": "7165aca73276a4729fc876a5efea33caf73a892a7a40eaa0ddcbf363c3ffdf48"
  },
  "kernelspec": {
   "display_name": "Python 3.9.10 64-bit (windows store)",
   "language": "python",
   "name": "python3"
  },
  "language_info": {
   "codemirror_mode": {
    "name": "ipython",
    "version": 3
   },
   "file_extension": ".py",
   "mimetype": "text/x-python",
   "name": "python",
   "nbconvert_exporter": "python",
   "pygments_lexer": "ipython3",
   "version": "3.9.10"
  },
  "orig_nbformat": 4
 },
 "nbformat": 4,
 "nbformat_minor": 2
}
